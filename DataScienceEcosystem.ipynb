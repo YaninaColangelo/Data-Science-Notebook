{
 "cells": [
  {
   "cell_type": "markdown",
   "id": "17d5be49",
   "metadata": {},
   "source": [
    "# Data Science Tools and Ecosystem"
   ]
  },
  {
   "cell_type": "markdown",
   "id": "e50d0ae3",
   "metadata": {},
   "source": [
    "_This notebook summarizes data science tools and ecosystems._"
   ]
  },
  {
   "cell_type": "markdown",
   "id": "e4c5c013",
   "metadata": {},
   "source": [
    "**Objectives:**\n",
    "\n",
    "- List popular languages for Data Science.\n",
    "- Identify commonly used libraries for Data Science.\n",
    "- Demonstrate arithmetic expressions in Python.\n",
    "- Explore tools used in the Data Science environment.\n",
    "- Convert units, such as minutes to hours, using Python.\n"
   ]
  },
  {
   "cell_type": "markdown",
   "id": "af189740",
   "metadata": {},
   "source": [
    "  _Some of the popular languages that Data Scientists use are:_\n",
    "\n",
    "   1. Python\n",
    "   2. R\n",
    "   3. SQL\n",
    "   4. Julia\n",
    "   5. Scala\n"
   ]
  },
  {
   "cell_type": "markdown",
   "id": "d5da856b",
   "metadata": {},
   "source": [
    "   _Some of the commonly used libraries by Data Scientists include:_\n",
    "\n",
    "   1. NumPy\n",
    "   2. Pandas\n",
    "   3. Matplotlib\n",
    "   4. Scikit-learn\n",
    "   5. TensorFlow\n"
   ]
  },
  {
   "cell_type": "markdown",
   "id": "ef565b74",
   "metadata": {},
   "source": [
    "| Data Science Tools       |\n",
    "|---------------------------|\n",
    "| Jupyter Notebook          |\n",
    "| RStudio                   |\n",
    "| IBM Watson Studio         |\n"
   ]
  },
  {
   "cell_type": "markdown",
   "id": "bc818739",
   "metadata": {},
   "source": [
    "### Below are some examples of evaluating arithmetic expressions in Python:\n",
    "\n",
    "1. `5 + 3` \n",
    "2. `10 - 4` \n",
    "3. `7 * 2` \n",
    "4. `8 / 2` \n",
    "5. `2 ** 3` "
   ]
  },
  {
   "cell_type": "code",
   "execution_count": 2,
   "id": "82c75d82",
   "metadata": {},
   "outputs": [
    {
     "data": {
      "text/plain": [
       "17"
      ]
     },
     "execution_count": 2,
     "metadata": {},
     "output_type": "execute_result"
    }
   ],
   "source": [
    "# This is a simple arithmetic expression to multiply and then add integers\n",
    "(3 * 4) + 5\n"
   ]
  },
  {
   "cell_type": "code",
   "execution_count": 3,
   "id": "85d9a4ae",
   "metadata": {},
   "outputs": [
    {
     "data": {
      "text/plain": [
       "3.3333333333333335"
      ]
     },
     "execution_count": 3,
     "metadata": {},
     "output_type": "execute_result"
    }
   ],
   "source": [
    "# This will convert 200 minutes to hours by dividing by 60\n",
    "200 / 60\n"
   ]
  },
  {
   "cell_type": "markdown",
   "id": "51a505c4",
   "metadata": {},
   "source": [
    "## Author\n",
    "\n",
    "Yanina Colangelo\n",
    "\n"
   ]
  }
 ],
 "metadata": {
  "kernelspec": {
   "display_name": "Python 3 (ipykernel)",
   "language": "python",
   "name": "python3"
  },
  "language_info": {
   "codemirror_mode": {
    "name": "ipython",
    "version": 3
   },
   "file_extension": ".py",
   "mimetype": "text/x-python",
   "name": "python",
   "nbconvert_exporter": "python",
   "pygments_lexer": "ipython3",
   "version": "3.11.5"
  }
 },
 "nbformat": 4,
 "nbformat_minor": 5
}
